{
 "cells": [
  {
   "cell_type": "code",
   "execution_count": 2,
   "id": "0182e8a8",
   "metadata": {},
   "outputs": [],
   "source": [
    "import pandas as pd\n",
    "import numpy as np\n",
    "import matplotlib.pyplot as plt\n",
    "from scipy.stats import ttest_1samp "
   ]
  },
  {
   "cell_type": "code",
   "execution_count": 3,
   "id": "0a31a710",
   "metadata": {},
   "outputs": [],
   "source": [
    "QUALFILE = \"ED_Main_Spring_2023_March+31,+2023_13.40.csv\"\n",
    "df_qual = pd.read_csv(\"..\\data\\{}\".format(QUALFILE))\n",
    "\n",
    "KEYFILE = \"key.csv\"\n",
    "df_key = pd.read_csv(\"..\\data\\{}\".format(KEYFILE))"
   ]
  },
  {
   "cell_type": "code",
   "execution_count": 4,
   "id": "6c38d4ab",
   "metadata": {},
   "outputs": [
    {
     "data": {
      "text/html": [
       "<div>\n",
       "<style scoped>\n",
       "    .dataframe tbody tr th:only-of-type {\n",
       "        vertical-align: middle;\n",
       "    }\n",
       "\n",
       "    .dataframe tbody tr th {\n",
       "        vertical-align: top;\n",
       "    }\n",
       "\n",
       "    .dataframe thead th {\n",
       "        text-align: right;\n",
       "    }\n",
       "</style>\n",
       "<table border=\"1\" class=\"dataframe\">\n",
       "  <thead>\n",
       "    <tr style=\"text-align: right;\">\n",
       "      <th></th>\n",
       "      <th>RecordedDate</th>\n",
       "      <th>ID</th>\n",
       "      <th>session</th>\n",
       "      <th>Q1_1</th>\n",
       "      <th>Q1_2</th>\n",
       "    </tr>\n",
       "  </thead>\n",
       "  <tbody>\n",
       "    <tr>\n",
       "      <th>0</th>\n",
       "      <td>Recorded Date</td>\n",
       "      <td>Thank you for participating in our study. Plea...</td>\n",
       "      <td>Enter test-session</td>\n",
       "      <td>Do you think the drink you just had contains c...</td>\n",
       "      <td>Do you think the drink you just had contains c...</td>\n",
       "    </tr>\n",
       "    <tr>\n",
       "      <th>1</th>\n",
       "      <td>{\"ImportId\":\"recordedDate\",\"timeZone\":\"Europe/...</td>\n",
       "      <td>{\"ImportId\":\"QID21_TEXT\"}</td>\n",
       "      <td>{\"ImportId\":\"QID14\"}</td>\n",
       "      <td>{\"ImportId\":\"QID1211366423_1\"}</td>\n",
       "      <td>{\"ImportId\":\"QID1211366423_2\"}</td>\n",
       "    </tr>\n",
       "    <tr>\n",
       "      <th>2</th>\n",
       "      <td>2023-02-15 11:58:54</td>\n",
       "      <td>NaN</td>\n",
       "      <td>1st test</td>\n",
       "      <td>6</td>\n",
       "      <td>4</td>\n",
       "    </tr>\n",
       "    <tr>\n",
       "      <th>3</th>\n",
       "      <td>2023-03-06 15:37:12</td>\n",
       "      <td>1111</td>\n",
       "      <td>1st test</td>\n",
       "      <td>8</td>\n",
       "      <td>8</td>\n",
       "    </tr>\n",
       "    <tr>\n",
       "      <th>4</th>\n",
       "      <td>2023-03-06 15:39:52</td>\n",
       "      <td>1111</td>\n",
       "      <td>1st test</td>\n",
       "      <td>8</td>\n",
       "      <td>8</td>\n",
       "    </tr>\n",
       "    <tr>\n",
       "      <th>...</th>\n",
       "      <td>...</td>\n",
       "      <td>...</td>\n",
       "      <td>...</td>\n",
       "      <td>...</td>\n",
       "      <td>...</td>\n",
       "    </tr>\n",
       "    <tr>\n",
       "      <th>214</th>\n",
       "      <td>2023-03-29 15:27:32</td>\n",
       "      <td>3054</td>\n",
       "      <td>3rd test</td>\n",
       "      <td>3</td>\n",
       "      <td>10</td>\n",
       "    </tr>\n",
       "    <tr>\n",
       "      <th>215</th>\n",
       "      <td>2023-03-29 15:28:03</td>\n",
       "      <td>3048</td>\n",
       "      <td>3rd test</td>\n",
       "      <td>4</td>\n",
       "      <td>6</td>\n",
       "    </tr>\n",
       "    <tr>\n",
       "      <th>216</th>\n",
       "      <td>2023-03-29 15:33:58</td>\n",
       "      <td>9085</td>\n",
       "      <td>3rd test</td>\n",
       "      <td>7</td>\n",
       "      <td>9</td>\n",
       "    </tr>\n",
       "    <tr>\n",
       "      <th>217</th>\n",
       "      <td>2023-03-29 15:35:04</td>\n",
       "      <td>9245</td>\n",
       "      <td>3rd test</td>\n",
       "      <td>2</td>\n",
       "      <td>3</td>\n",
       "    </tr>\n",
       "    <tr>\n",
       "      <th>218</th>\n",
       "      <td>2023-03-30 13:58:08</td>\n",
       "      <td>3060</td>\n",
       "      <td>3rd test</td>\n",
       "      <td>7</td>\n",
       "      <td>0</td>\n",
       "    </tr>\n",
       "  </tbody>\n",
       "</table>\n",
       "<p>219 rows × 5 columns</p>\n",
       "</div>"
      ],
      "text/plain": [
       "                                          RecordedDate  \\\n",
       "0                                        Recorded Date   \n",
       "1    {\"ImportId\":\"recordedDate\",\"timeZone\":\"Europe/...   \n",
       "2                                  2023-02-15 11:58:54   \n",
       "3                                  2023-03-06 15:37:12   \n",
       "4                                  2023-03-06 15:39:52   \n",
       "..                                                 ...   \n",
       "214                                2023-03-29 15:27:32   \n",
       "215                                2023-03-29 15:28:03   \n",
       "216                                2023-03-29 15:33:58   \n",
       "217                                2023-03-29 15:35:04   \n",
       "218                                2023-03-30 13:58:08   \n",
       "\n",
       "                                                    ID               session  \\\n",
       "0    Thank you for participating in our study. Plea...    Enter test-session   \n",
       "1                            {\"ImportId\":\"QID21_TEXT\"}  {\"ImportId\":\"QID14\"}   \n",
       "2                                                  NaN              1st test   \n",
       "3                                                 1111              1st test   \n",
       "4                                                 1111              1st test   \n",
       "..                                                 ...                   ...   \n",
       "214                                               3054              3rd test   \n",
       "215                                               3048              3rd test   \n",
       "216                                               9085              3rd test   \n",
       "217                                               9245              3rd test   \n",
       "218                                               3060              3rd test   \n",
       "\n",
       "                                                  Q1_1  \\\n",
       "0    Do you think the drink you just had contains c...   \n",
       "1                       {\"ImportId\":\"QID1211366423_1\"}   \n",
       "2                                                    6   \n",
       "3                                                    8   \n",
       "4                                                    8   \n",
       "..                                                 ...   \n",
       "214                                                  3   \n",
       "215                                                  4   \n",
       "216                                                  7   \n",
       "217                                                  2   \n",
       "218                                                  7   \n",
       "\n",
       "                                                  Q1_2  \n",
       "0    Do you think the drink you just had contains c...  \n",
       "1                       {\"ImportId\":\"QID1211366423_2\"}  \n",
       "2                                                    4  \n",
       "3                                                    8  \n",
       "4                                                    8  \n",
       "..                                                 ...  \n",
       "214                                                 10  \n",
       "215                                                  6  \n",
       "216                                                  9  \n",
       "217                                                  3  \n",
       "218                                                  0  \n",
       "\n",
       "[219 rows x 5 columns]"
      ]
     },
     "execution_count": 4,
     "metadata": {},
     "output_type": "execute_result"
    }
   ],
   "source": [
    "df_qual"
   ]
  },
  {
   "cell_type": "code",
   "execution_count": 5,
   "id": "b88a81c5",
   "metadata": {},
   "outputs": [
    {
     "data": {
      "text/html": [
       "<div>\n",
       "<style scoped>\n",
       "    .dataframe tbody tr th:only-of-type {\n",
       "        vertical-align: middle;\n",
       "    }\n",
       "\n",
       "    .dataframe tbody tr th {\n",
       "        vertical-align: top;\n",
       "    }\n",
       "\n",
       "    .dataframe thead th {\n",
       "        text-align: right;\n",
       "    }\n",
       "</style>\n",
       "<table border=\"1\" class=\"dataframe\">\n",
       "  <thead>\n",
       "    <tr style=\"text-align: right;\">\n",
       "      <th></th>\n",
       "      <th>ID</th>\n",
       "      <th>T2</th>\n",
       "      <th>T3</th>\n",
       "    </tr>\n",
       "  </thead>\n",
       "  <tbody>\n",
       "    <tr>\n",
       "      <th>0</th>\n",
       "      <td>2009</td>\n",
       "      <td>CS</td>\n",
       "      <td>CXS</td>\n",
       "    </tr>\n",
       "    <tr>\n",
       "      <th>1</th>\n",
       "      <td>2054</td>\n",
       "      <td>CS</td>\n",
       "      <td>CXS</td>\n",
       "    </tr>\n",
       "    <tr>\n",
       "      <th>2</th>\n",
       "      <td>3024</td>\n",
       "      <td>CS</td>\n",
       "      <td>CXS</td>\n",
       "    </tr>\n",
       "    <tr>\n",
       "      <th>3</th>\n",
       "      <td>4010</td>\n",
       "      <td>CS</td>\n",
       "      <td>CXS</td>\n",
       "    </tr>\n",
       "    <tr>\n",
       "      <th>4</th>\n",
       "      <td>5052</td>\n",
       "      <td>CS</td>\n",
       "      <td>CXS</td>\n",
       "    </tr>\n",
       "    <tr>\n",
       "      <th>...</th>\n",
       "      <td>...</td>\n",
       "      <td>...</td>\n",
       "      <td>...</td>\n",
       "    </tr>\n",
       "    <tr>\n",
       "      <th>67</th>\n",
       "      <td>6080</td>\n",
       "      <td>DCXS</td>\n",
       "      <td>CS</td>\n",
       "    </tr>\n",
       "    <tr>\n",
       "      <th>68</th>\n",
       "      <td>7084</td>\n",
       "      <td>DCXS</td>\n",
       "      <td>CS</td>\n",
       "    </tr>\n",
       "    <tr>\n",
       "      <th>69</th>\n",
       "      <td>7096</td>\n",
       "      <td>DCXS</td>\n",
       "      <td>CS</td>\n",
       "    </tr>\n",
       "    <tr>\n",
       "      <th>70</th>\n",
       "      <td>7108</td>\n",
       "      <td>DCXS</td>\n",
       "      <td>CS</td>\n",
       "    </tr>\n",
       "    <tr>\n",
       "      <th>71</th>\n",
       "      <td>9068</td>\n",
       "      <td>DCXS</td>\n",
       "      <td>CS</td>\n",
       "    </tr>\n",
       "  </tbody>\n",
       "</table>\n",
       "<p>72 rows × 3 columns</p>\n",
       "</div>"
      ],
      "text/plain": [
       "      ID    T2   T3\n",
       "0   2009    CS  CXS\n",
       "1   2054    CS  CXS\n",
       "2   3024    CS  CXS\n",
       "3   4010    CS  CXS\n",
       "4   5052    CS  CXS\n",
       "..   ...   ...  ...\n",
       "67  6080  DCXS   CS\n",
       "68  7084  DCXS   CS\n",
       "69  7096  DCXS   CS\n",
       "70  7108  DCXS   CS\n",
       "71  9068  DCXS   CS\n",
       "\n",
       "[72 rows x 3 columns]"
      ]
     },
     "execution_count": 5,
     "metadata": {},
     "output_type": "execute_result"
    }
   ],
   "source": [
    "df_key"
   ]
  },
  {
   "cell_type": "code",
   "execution_count": 6,
   "id": "912b8ade",
   "metadata": {},
   "outputs": [],
   "source": [
    "# Attention! If we look at T1 as well we will have to make some adjustments to ID numbers - see osf wiki"
   ]
  },
  {
   "cell_type": "code",
   "execution_count": 64,
   "id": "f6f2d742",
   "metadata": {
    "scrolled": true
   },
   "outputs": [
    {
     "data": {
      "text/html": [
       "<div>\n",
       "<style scoped>\n",
       "    .dataframe tbody tr th:only-of-type {\n",
       "        vertical-align: middle;\n",
       "    }\n",
       "\n",
       "    .dataframe tbody tr th {\n",
       "        vertical-align: top;\n",
       "    }\n",
       "\n",
       "    .dataframe thead th {\n",
       "        text-align: right;\n",
       "    }\n",
       "</style>\n",
       "<table border=\"1\" class=\"dataframe\">\n",
       "  <thead>\n",
       "    <tr style=\"text-align: right;\">\n",
       "      <th></th>\n",
       "      <th>RecordedDate</th>\n",
       "      <th>ID</th>\n",
       "      <th>session</th>\n",
       "      <th>caffeine</th>\n",
       "      <th>sugar</th>\n",
       "      <th>condition</th>\n",
       "    </tr>\n",
       "  </thead>\n",
       "  <tbody>\n",
       "    <tr>\n",
       "      <th>65</th>\n",
       "      <td>2023-03-22 11:04:30</td>\n",
       "      <td>7012</td>\n",
       "      <td>T3</td>\n",
       "      <td>7</td>\n",
       "      <td>7</td>\n",
       "      <td>DCXS</td>\n",
       "    </tr>\n",
       "    <tr>\n",
       "      <th>67</th>\n",
       "      <td>2023-03-22 11:05:53</td>\n",
       "      <td>5104</td>\n",
       "      <td>T3</td>\n",
       "      <td>8</td>\n",
       "      <td>2</td>\n",
       "      <td>CS</td>\n",
       "    </tr>\n",
       "    <tr>\n",
       "      <th>8</th>\n",
       "      <td>2023-03-14 15:38:40</td>\n",
       "      <td>4015</td>\n",
       "      <td>T2</td>\n",
       "      <td>9</td>\n",
       "      <td>7</td>\n",
       "      <td>CS</td>\n",
       "    </tr>\n",
       "    <tr>\n",
       "      <th>78</th>\n",
       "      <td>2023-03-22 15:34:26</td>\n",
       "      <td>4035</td>\n",
       "      <td>T3</td>\n",
       "      <td>7</td>\n",
       "      <td>2</td>\n",
       "      <td>DCS</td>\n",
       "    </tr>\n",
       "    <tr>\n",
       "      <th>20</th>\n",
       "      <td>2023-03-15 14:13:55</td>\n",
       "      <td>6066</td>\n",
       "      <td>T2</td>\n",
       "      <td>7</td>\n",
       "      <td>0</td>\n",
       "      <td>CXS</td>\n",
       "    </tr>\n",
       "  </tbody>\n",
       "</table>\n",
       "</div>"
      ],
      "text/plain": [
       "           RecordedDate    ID session  caffeine  sugar condition\n",
       "65  2023-03-22 11:04:30  7012      T3         7      7      DCXS\n",
       "67  2023-03-22 11:05:53  5104      T3         8      2        CS\n",
       "8   2023-03-14 15:38:40  4015      T2         9      7        CS\n",
       "78  2023-03-22 15:34:26  4035      T3         7      2       DCS\n",
       "20  2023-03-15 14:13:55  6066      T2         7      0       CXS"
      ]
     },
     "execution_count": 64,
     "metadata": {},
     "output_type": "execute_result"
    }
   ],
   "source": [
    "def tweak_key(df):\n",
    "    return(df\n",
    "           .drop(df.index[df.ID == 2018])\n",
    "           .assign(ID=lambda df_: df_.ID.astype(str))\n",
    "           .melt(id_vars=\"ID\")\n",
    "           .rename(columns={\"variable\": \"session\",\n",
    "                            \"value\": \"condition\"})\n",
    "           .assign(session=lambda df_: df_.session.astype(\"category\"),\n",
    "                   condition=lambda df_: df_.condition.astype(\"category\"))\n",
    "          )\n",
    "\n",
    "def tweak_qual(df, df_key):\n",
    "    IDs = df_key.ID.unique()\n",
    "    \n",
    "    return(df\n",
    "           .rename(columns={\"Q1_1\": \"caffeine\", \"Q1_2\": \"sugar\"})\n",
    "           .replace({\"1st test\": \"T1\", \"2nd test\": \"T2\", \"3rd test\": \"T3\"})\n",
    "           .query(\"ID in @IDs\")\n",
    "           .assign(session=lambda df_: df_.session.astype(\"category\"),\n",
    "                   caffeine=lambda df_: df_.caffeine.astype(\"uint8\"),\n",
    "                   sugar=lambda df_: df_.sugar.astype(\"uint8\"))\n",
    "           .merge(df_key)\n",
    "\n",
    "          )\n",
    "\n",
    "\n",
    "KEYFILE = \"key.csv\"\n",
    "df_key = pd.read_csv(\"..\\data\\{}\".format(KEYFILE))\n",
    "df_key = tweak_key(df_key)\n",
    "\n",
    "QUALFILE = \"ED_Main_Spring_2023_March+31,+2023_13.40.csv\"\n",
    "df_qual = pd.read_csv(\"..\\data\\{}\".format(QUALFILE))\n",
    "df_qual = tweak_qual(df_qual, df_key)\n",
    "\n",
    "df_qual.sample(5)"
   ]
  },
  {
   "cell_type": "code",
   "execution_count": 65,
   "id": "dda62e0f",
   "metadata": {},
   "outputs": [
    {
     "data": {
      "text/plain": [
       "126"
      ]
     },
     "execution_count": 65,
     "metadata": {},
     "output_type": "execute_result"
    }
   ],
   "source": [
    "len(df_qual)"
   ]
  },
  {
   "cell_type": "code",
   "execution_count": 66,
   "id": "438f03ba",
   "metadata": {},
   "outputs": [
    {
     "name": "stdout",
     "output_type": "stream",
     "text": [
      "The number of T1 rows is 0.\n",
      "The number of T2 rows is 65.\n",
      "The number of T3 rows is 61.\n"
     ]
    }
   ],
   "source": [
    "print(\"The number of T1 rows is {}.\".format(sum(df_qual.session == \"T1\")))\n",
    "print(\"The number of T2 rows is {}.\".format(sum(df_qual.session == \"T2\")))\n",
    "print(\"The number of T3 rows is {}.\".format(sum(df_qual.session == \"T3\")))"
   ]
  },
  {
   "cell_type": "code",
   "execution_count": 68,
   "id": "b3e71977",
   "metadata": {},
   "outputs": [],
   "source": [
    "# function to get difference scores\n",
    "def get_diff_scores(df, conditions, value):\n",
    "    df_reduced = df.query(\"condition in @conditions\")\n",
    "    \n",
    "    df_diff = pd.pivot(df_reduced, index=\"ID\", columns=\"condition\", values=value)\n",
    "    df_diff[\"difference_score\"] = df_diff[conditions[0]] - df_diff[conditions[1]]\n",
    "        \n",
    "    df_diff = df_diff[~pd.isna(df_diff[\"difference_score\"])]\n",
    "    \n",
    "    return df_diff\n",
    "   \n",
    "conditions = [\"CS\", \"DCS\"]\n",
    "df_caffeine = get_diff_scores(df_qual, conditions, \"caffeine\")\n",
    "df_caffeine_sug = get_diff_scores(df_qual, conditions, \"sugar\")\n",
    "\n",
    "conditions = [\"CS\", \"CXS\"]\n",
    "df_sugar = get_diff_scores(df_qual, conditions, \"sugar\")\n",
    "df_sugar_caff = get_diff_scores(df_qual, conditions, \"caffeine\")\n",
    "\n",
    "\n",
    "conditions = [\"CS\", \"DCXS\"]\n",
    "df_both_caff = get_diff_scores(df_qual, conditions, \"caffeine\")\n",
    "df_both_sug = get_diff_scores(df_qual, conditions, \"sugar\")\n"
   ]
  },
  {
   "cell_type": "code",
   "execution_count": 69,
   "id": "dc2b9c89",
   "metadata": {},
   "outputs": [
    {
     "name": "stdout",
     "output_type": "stream",
     "text": [
      "The number of subjects with CS vs DCS is 18\n",
      "The number of subjects with CS vs CXS is 20\n",
      "The number of subjects with CS vs DCXS is 23\n"
     ]
    }
   ],
   "source": [
    "print(\"The number of subjects with CS vs DCS is {}\".format(len(df_caffeine)))\n",
    "print(\"The number of subjects with CS vs CXS is {}\".format(len(df_sugar)))\n",
    "print(\"The number of subjects with CS vs DCXS is {}\".format(len(df_both_caff)))"
   ]
  },
  {
   "cell_type": "code",
   "execution_count": 70,
   "id": "08cf5ecc",
   "metadata": {},
   "outputs": [
    {
     "data": {
      "text/html": [
       "<div>\n",
       "<style scoped>\n",
       "    .dataframe tbody tr th:only-of-type {\n",
       "        vertical-align: middle;\n",
       "    }\n",
       "\n",
       "    .dataframe tbody tr th {\n",
       "        vertical-align: top;\n",
       "    }\n",
       "\n",
       "    .dataframe thead th {\n",
       "        text-align: right;\n",
       "    }\n",
       "</style>\n",
       "<table border=\"1\" class=\"dataframe\">\n",
       "  <thead>\n",
       "    <tr style=\"text-align: right;\">\n",
       "      <th>condition</th>\n",
       "      <th>DCS</th>\n",
       "      <th>CS</th>\n",
       "      <th>difference_score</th>\n",
       "    </tr>\n",
       "    <tr>\n",
       "      <th>ID</th>\n",
       "      <th></th>\n",
       "      <th></th>\n",
       "      <th></th>\n",
       "    </tr>\n",
       "  </thead>\n",
       "  <tbody>\n",
       "    <tr>\n",
       "      <th>2036</th>\n",
       "      <td>6.0</td>\n",
       "      <td>6.0</td>\n",
       "      <td>0.0</td>\n",
       "    </tr>\n",
       "    <tr>\n",
       "      <th>3012</th>\n",
       "      <td>4.0</td>\n",
       "      <td>7.0</td>\n",
       "      <td>3.0</td>\n",
       "    </tr>\n",
       "    <tr>\n",
       "      <th>3048</th>\n",
       "      <td>4.0</td>\n",
       "      <td>4.0</td>\n",
       "      <td>0.0</td>\n",
       "    </tr>\n",
       "    <tr>\n",
       "      <th>4025</th>\n",
       "      <td>4.0</td>\n",
       "      <td>3.0</td>\n",
       "      <td>-1.0</td>\n",
       "    </tr>\n",
       "    <tr>\n",
       "      <th>4030</th>\n",
       "      <td>7.0</td>\n",
       "      <td>7.0</td>\n",
       "      <td>0.0</td>\n",
       "    </tr>\n",
       "    <tr>\n",
       "      <th>4035</th>\n",
       "      <td>7.0</td>\n",
       "      <td>7.0</td>\n",
       "      <td>0.0</td>\n",
       "    </tr>\n",
       "    <tr>\n",
       "      <th>4050</th>\n",
       "      <td>7.0</td>\n",
       "      <td>7.0</td>\n",
       "      <td>0.0</td>\n",
       "    </tr>\n",
       "    <tr>\n",
       "      <th>6024</th>\n",
       "      <td>7.0</td>\n",
       "      <td>8.0</td>\n",
       "      <td>1.0</td>\n",
       "    </tr>\n",
       "    <tr>\n",
       "      <th>6032</th>\n",
       "      <td>6.0</td>\n",
       "      <td>5.0</td>\n",
       "      <td>-1.0</td>\n",
       "    </tr>\n",
       "    <tr>\n",
       "      <th>7024</th>\n",
       "      <td>8.0</td>\n",
       "      <td>2.0</td>\n",
       "      <td>-6.0</td>\n",
       "    </tr>\n",
       "    <tr>\n",
       "      <th>7036</th>\n",
       "      <td>7.0</td>\n",
       "      <td>0.0</td>\n",
       "      <td>-7.0</td>\n",
       "    </tr>\n",
       "    <tr>\n",
       "      <th>7048</th>\n",
       "      <td>8.0</td>\n",
       "      <td>5.0</td>\n",
       "      <td>-3.0</td>\n",
       "    </tr>\n",
       "    <tr>\n",
       "      <th>8014</th>\n",
       "      <td>7.0</td>\n",
       "      <td>7.0</td>\n",
       "      <td>0.0</td>\n",
       "    </tr>\n",
       "    <tr>\n",
       "      <th>8021</th>\n",
       "      <td>3.0</td>\n",
       "      <td>8.0</td>\n",
       "      <td>5.0</td>\n",
       "    </tr>\n",
       "    <tr>\n",
       "      <th>8042</th>\n",
       "      <td>4.0</td>\n",
       "      <td>4.0</td>\n",
       "      <td>0.0</td>\n",
       "    </tr>\n",
       "    <tr>\n",
       "      <th>9034</th>\n",
       "      <td>1.0</td>\n",
       "      <td>6.0</td>\n",
       "      <td>5.0</td>\n",
       "    </tr>\n",
       "    <tr>\n",
       "      <th>9085</th>\n",
       "      <td>7.0</td>\n",
       "      <td>2.0</td>\n",
       "      <td>-5.0</td>\n",
       "    </tr>\n",
       "    <tr>\n",
       "      <th>9245</th>\n",
       "      <td>3.0</td>\n",
       "      <td>2.0</td>\n",
       "      <td>-1.0</td>\n",
       "    </tr>\n",
       "  </tbody>\n",
       "</table>\n",
       "</div>"
      ],
      "text/plain": [
       "condition  DCS   CS  difference_score\n",
       "ID                                   \n",
       "2036       6.0  6.0               0.0\n",
       "3012       4.0  7.0               3.0\n",
       "3048       4.0  4.0               0.0\n",
       "4025       4.0  3.0              -1.0\n",
       "4030       7.0  7.0               0.0\n",
       "4035       7.0  7.0               0.0\n",
       "4050       7.0  7.0               0.0\n",
       "6024       7.0  8.0               1.0\n",
       "6032       6.0  5.0              -1.0\n",
       "7024       8.0  2.0              -6.0\n",
       "7036       7.0  0.0              -7.0\n",
       "7048       8.0  5.0              -3.0\n",
       "8014       7.0  7.0               0.0\n",
       "8021       3.0  8.0               5.0\n",
       "8042       4.0  4.0               0.0\n",
       "9034       1.0  6.0               5.0\n",
       "9085       7.0  2.0              -5.0\n",
       "9245       3.0  2.0              -1.0"
      ]
     },
     "execution_count": 70,
     "metadata": {},
     "output_type": "execute_result"
    }
   ],
   "source": [
    "df_caffeine"
   ]
  },
  {
   "cell_type": "code",
   "execution_count": 71,
   "id": "955cc009",
   "metadata": {},
   "outputs": [
    {
     "name": "stdout",
     "output_type": "stream",
     "text": [
      "The difference scores are not different from zero, p = 0.327\n"
     ]
    }
   ],
   "source": [
    "res = ttest_1samp(df_both_sug.difference_score, 0)\n",
    "\n",
    "if res.pvalue > 0.05:\n",
    "    print(\"The difference scores are not different from zero, p = {:.3f}\".format(res.pvalue))\n",
    "else:\n",
    "    print(\"The difference scores are different from zero, p = {:.3f}\".format(res.pvalue))\n",
    "    \n",
    "ci = res.confidence_interval()"
   ]
  },
  {
   "cell_type": "code",
   "execution_count": 72,
   "id": "a0226fdb",
   "metadata": {},
   "outputs": [
    {
     "data": {
      "text/plain": [
       "Text(0.5, 0, 'Contains caffeine (CS - DCS)')"
      ]
     },
     "execution_count": 72,
     "metadata": {},
     "output_type": "execute_result"
    },
    {
     "data": {
      "image/png": "[encoded data removed]",
      "text/plain": [
       "<Figure size 640x480 with 1 Axes>"
      ]
     },
     "metadata": {},
     "output_type": "display_data"
    }
   ],
   "source": [
    "bins = range(-10, 11)\n",
    "\n",
    "f, ax = plt.subplots()\n",
    "\n",
    "ax.hist(df_both_caff.difference_score, bins=bins)\n",
    "ax.set_ylabel(\"Frequency\")\n",
    "ax.set_xlabel(\"Contains caffeine (CS - DCS)\")\n"
   ]
  },
  {
   "cell_type": "code",
   "execution_count": 73,
   "id": "87ea4854",
   "metadata": {},
   "outputs": [
    {
     "data": {
      "text/plain": [
       "Text(0.5, 0, 'Contains sugar (CS - DCXS)')"
      ]
     },
     "execution_count": 73,
     "metadata": {},
     "output_type": "execute_result"
    },
    {
     "data": {
      "image/png": "[encoded data removed]",
      "text/plain": [
       "<Figure size 640x480 with 1 Axes>"
      ]
     },
     "metadata": {},
     "output_type": "display_data"
    }
   ],
   "source": [
    "bins = range(-10, 11)\n",
    "\n",
    "f, ax = plt.subplots()\n",
    "\n",
    "ax.hist(df_both_sug.difference_score, bins=bins)\n",
    "ax.set_ylabel(\"Frequency\")\n",
    "ax.set_xlabel(\"Contains sugar (CS - DCXS)\")"
   ]
  },
  {
   "cell_type": "code",
   "execution_count": 76,
   "id": "a2b7d44a",
   "metadata": {},
   "outputs": [
    {
     "data": {
      "text/plain": [
       "Text(10, 6, 'CS - DCXS')"
      ]
     },
     "execution_count": 76,
     "metadata": {},
     "output_type": "execute_result"
    },
    {
     "data": {
      "image/png": "[encoded data removed]",
      "text/plain": [
       "<Figure size 640x480 with 6 Axes>"
      ]
     },
     "metadata": {},
     "output_type": "display_data"
    }
   ],
   "source": [
    "def make_difference_hist(df, bins, axis, color=\"red\"):\n",
    "    axis.hist(df.difference_score, bins=bins, color=color)\n",
    "    axis.set_ylabel(\"Frequency\")\n",
    "    # axis.set_xlabel(\"Contains sugar (CS - DCXS)\")\n",
    "    \n",
    "#     rnd_array = []\n",
    "#     for n in range(100):\n",
    "#         rnd_array.append(df.difference_score.apply( lambda x : x * random.choice([-1,1])).values)\n",
    "\n",
    "#     sns.kdeplot(np.array(tp.flatten_list(rnd_array)*len(df), ax=axis))\n",
    "        \n",
    "#     axis.hist(rnd, bins=bins, color=\"grey\")\n",
    "    \n",
    "    \n",
    "\n",
    "cs_dcs_color = \"#BB5566\"\n",
    "cs_cxs_color = \"#DDAA33\"\n",
    "cs_dcxs_color = \"#004488\"\n",
    "    \n",
    "f, ax = plt.subplots(nrows=3, ncols=2, sharex=True, sharey=True)\n",
    "\n",
    "make_difference_hist(df_caffeine, bins, ax[0,0], color=cs_dcs_color)\n",
    "make_difference_hist(df_caffeine_sug, bins, ax[0,1], color=cs_dcs_color)\n",
    "\n",
    "make_difference_hist(df_sugar, bins, ax[1,1], color=cs_cxs_color)\n",
    "make_difference_hist(df_sugar_caff, bins, ax[1,0], color=cs_cxs_color)\n",
    "\n",
    "make_difference_hist(df_both_caff, bins, ax[2,0], color=cs_dcxs_color)\n",
    "make_difference_hist(df_both_sug, bins, ax[2,1], color=cs_dcxs_color)\n",
    "\n",
    "ax[2,0].set_xlabel(\"Contains caffeine (difference score)\")\n",
    "ax[2,1].set_xlabel(\"Contains sugar (difference score)\")\n",
    "\n",
    "ax[0,1].text(10,6,\"CS - DCS\", horizontalalignment=\"right\", color=cs_dcs_color)\n",
    "ax[1,1].text(10,6,\"CS - CXS\", horizontalalignment=\"right\", color=cs_cxs_color)\n",
    "ax[2,1].text(10,6,\"CS - DCXS\", horizontalalignment=\"right\", color=cs_dcxs_color)\n",
    "\n"
   ]
  },
  {
   "cell_type": "code",
   "execution_count": 33,
   "id": "680833cf",
   "metadata": {},
   "outputs": [],
   "source": [
    "import random"
   ]
  },
  {
   "cell_type": "code",
   "execution_count": 195,
   "id": "08e2ed96",
   "metadata": {},
   "outputs": [],
   "source": [
    "rnd_array = []\n",
    "for n in range(100):\n",
    "    rnd_array.append(df_both_sug.difference_score.apply( lambda x : x * random.choice([-1,1])).values)\n"
   ]
  },
  {
   "cell_type": "code",
   "execution_count": 203,
   "id": "09e96b69",
   "metadata": {},
   "outputs": [
    {
     "data": {
      "text/plain": [
       "23"
      ]
     },
     "execution_count": 203,
     "metadata": {},
     "output_type": "execute_result"
    }
   ],
   "source": [
    "len(df_both_sug)"
   ]
  },
  {
   "cell_type": "code",
   "execution_count": 204,
   "id": "6698c383",
   "metadata": {},
   "outputs": [
    {
     "data": {
      "text/plain": [
       "<Axes: ylabel='Density'>"
      ]
     },
     "execution_count": 204,
     "metadata": {},
     "output_type": "execute_result"
    },
    {
     "data": {
      "image/png": "[encoded data removed]",
      "text/plain": [
       "<Figure size 640x480 with 1 Axes>"
      ]
     },
     "metadata": {},
     "output_type": "display_data"
    }
   ],
   "source": [
    "import seaborn as sns\n",
    "import trompy as tp\n",
    "rnd_array\n",
    "sns.kdeplot(tp.flatten_list(rnd_array), weights=23)"
   ]
  },
  {
   "cell_type": "code",
   "execution_count": 57,
   "id": "262a6327",
   "metadata": {},
   "outputs": [
    {
     "data": {
      "text/plain": [
       "ID\n",
       "2018    6.0\n",
       "2036    0.0\n",
       "3012    3.0\n",
       "3048    0.0\n",
       "4025   -1.0\n",
       "4030    0.0\n",
       "4035    0.0\n",
       "4050    0.0\n",
       "6024    1.0\n",
       "6032   -1.0\n",
       "7024   -6.0\n",
       "7036   -7.0\n",
       "7048   -3.0\n",
       "8014    0.0\n",
       "8021    5.0\n",
       "8042    0.0\n",
       "9034    5.0\n",
       "9245   -1.0\n",
       "Name: difference_score, dtype: float64"
      ]
     },
     "execution_count": 57,
     "metadata": {},
     "output_type": "execute_result"
    }
   ],
   "source": [
    "df_caffeine.difference_score"
   ]
  },
  {
   "cell_type": "code",
   "execution_count": null,
   "id": "27adfe27",
   "metadata": {},
   "outputs": [],
   "source": []
  }
 ],
 "metadata": {
  "kernelspec": {
   "display_name": "Python 3 (ipykernel)",
   "language": "python",
   "name": "python3"
  },
  "language_info": {
   "codemirror_mode": {
    "name": "ipython",
    "version": 3
   },
   "file_extension": ".py",
   "mimetype": "text/x-python",
   "name": "python",
   "nbconvert_exporter": "python",
   "pygments_lexer": "ipython3",
   "version": "3.9.16"
  }
 },
 "nbformat": 4,
 "nbformat_minor": 5
}
